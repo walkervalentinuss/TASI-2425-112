{
 "cells": [
  {
   "cell_type": "markdown",
   "id": "5d79c911",
   "metadata": {},
   "source": [
    "# Text Tokenization Sushil"
   ]
  },
  {
   "cell_type": "markdown",
   "id": "740150c6",
   "metadata": {},
   "source": [
    "## Import & Setup"
   ]
  },
  {
   "cell_type": "code",
   "execution_count": 1,
   "id": "5f1de455",
   "metadata": {},
   "outputs": [
    {
     "name": "stderr",
     "output_type": "stream",
     "text": [
      "c:\\Users\\walkervalentinus\\Documents\\PERKULIAHAN\\Final_Year\\SEMHAS\\tasi2425112\\env\\Lib\\site-packages\\tqdm\\auto.py:21: TqdmWarning: IProgress not found. Please update jupyter and ipywidgets. See https://ipywidgets.readthedocs.io/en/stable/user_install.html\n",
      "  from .autonotebook import tqdm as notebook_tqdm\n",
      "None of PyTorch, TensorFlow >= 2.0, or Flax have been found. Models won't be available and only tokenizers, configuration and file/data utilities can be used.\n"
     ]
    }
   ],
   "source": [
    "import pandas as pd\n",
    "import matplotlib.pyplot as plt\n",
    "import seaborn as sns\n",
    "import numpy as np\n",
    "import os\n",
    "\n",
    "from collections import Counter\n",
    "from imblearn.over_sampling import SMOTE\n",
    "from transformers import BertTokenizer\n",
    "from sklearn.model_selection import train_test_split"
   ]
  },
  {
   "cell_type": "markdown",
   "id": "b4fb5c21",
   "metadata": {},
   "source": [
    "## Load Data"
   ]
  },
  {
   "cell_type": "code",
   "execution_count": 2,
   "id": "d506ce7d",
   "metadata": {},
   "outputs": [],
   "source": [
    "clean_df = pd.read_csv(\"dataset/Sushil/clean.csv\")"
   ]
  },
  {
   "cell_type": "markdown",
   "id": "b4c1d88b",
   "metadata": {},
   "source": [
    "## Check Label Distribution (Imbalance Analysis)"
   ]
  },
  {
   "cell_type": "code",
   "execution_count": 3,
   "id": "6f7ddb07",
   "metadata": {},
   "outputs": [],
   "source": [
    "# Label count\n",
    "label_counts = clean_df[\"labels\"].value_counts().sort_index()\n",
    "labels = label_counts.index\n",
    "counts = label_counts.values"
   ]
  },
  {
   "cell_type": "code",
   "execution_count": 4,
   "id": "ab4aceaa",
   "metadata": {},
   "outputs": [],
   "source": [
    "# Get majority and minority label\n",
    "major_label = label_counts.idxmax()\n",
    "minor_label = label_counts.idxmin()"
   ]
  },
  {
   "cell_type": "code",
   "execution_count": 5,
   "id": "db0707b5",
   "metadata": {},
   "outputs": [],
   "source": [
    "# Count percentage \n",
    "total = counts.sum()\n",
    "diff_percent = ((counts.max() - counts.min()) / total) * 100"
   ]
  },
  {
   "cell_type": "code",
   "execution_count": 6,
   "id": "0495b2ea",
   "metadata": {},
   "outputs": [],
   "source": [
    "plot_df = pd.DataFrame({\n",
    "    \"Label\": labels,\n",
    "    \"Count\": counts,\n",
    "    \"Category\": [\"Major\" if l == major_label else \"Minor\" for l in labels]\n",
    "})"
   ]
  },
  {
   "cell_type": "code",
   "execution_count": 7,
   "id": "54bf8a8e",
   "metadata": {},
   "outputs": [],
   "source": [
    "color_map = {\"Major\": \"blue\", \"Minor\": \"red\"}"
   ]
  },
  {
   "cell_type": "code",
   "execution_count": 8,
   "id": "e8dcfcce",
   "metadata": {},
   "outputs": [
    {
     "data": {
      "image/png": "[encoded data removed]",
      "text/plain": [
       "<Figure size 600x800 with 1 Axes>"
      ]
     },
     "metadata": {},
     "output_type": "display_data"
    }
   ],
   "source": [
    "# Plot\n",
    "plt.figure(figsize=(6, 8))\n",
    "ax = sns.barplot(data=plot_df, x=\"Label\", y=\"Count\", hue=\"Category\", palette=color_map, dodge=False)\n",
    "ax.legend_.remove() \n",
    "\n",
    "# Add percentage above the bar\n",
    "for i, count in enumerate(counts):\n",
    "    pct = (count / total) * 100\n",
    "    plt.text(i, count + 5, f\"{pct:.1f}%\", ha='center', va='bottom', fontsize=11, fontweight='bold')\n",
    "\n",
    "# Title and label\n",
    "plt.title(f\"TweetEval Label Distribution Before SMOTE\\nDifference: {diff_percent:.1f}%\", fontsize=13)\n",
    "plt.xlabel(\"Label\")\n",
    "plt.ylabel(\"Count\")\n",
    "plt.tight_layout()\n",
    "plt.show()"
   ]
  },
  {
   "cell_type": "markdown",
   "id": "664ab517",
   "metadata": {},
   "source": [
    "## Tokenization"
   ]
  },
  {
   "cell_type": "code",
   "execution_count": 9,
   "id": "ba191956",
   "metadata": {},
   "outputs": [
    {
     "name": "stderr",
     "output_type": "stream",
     "text": [
      "The tokenizer class you load from this checkpoint is not the same type as the class this function is called from. It may result in unexpected tokenization. \n",
      "The tokenizer class you load from this checkpoint is 'AlbertTokenizerFast'. \n",
      "The class this function is called from is 'BertTokenizer'.\n"
     ]
    }
   ],
   "source": [
    "# Load tokenizer\n",
    "tokenizer = BertTokenizer.from_pretrained(\"indobenchmark/indobert-lite-base-p1\")"
   ]
  },
  {
   "cell_type": "code",
   "execution_count": 10,
   "id": "8120924f",
   "metadata": {},
   "outputs": [],
   "source": [
    "def tokenize_column(texts):\n",
    "    return [tokenizer.encode(text, max_length=128, padding='max_length', truncation=True) for text in texts]"
   ]
  },
  {
   "cell_type": "code",
   "execution_count": 11,
   "id": "a7937412",
   "metadata": {},
   "outputs": [],
   "source": [
    "clean_df[\"token_no_emoji\"] = tokenize_column(clean_df[\"No Stopword Text\"].astype(str))\n",
    "clean_df[\"token_with_emoji\"] = tokenize_column(clean_df[\"Text with Emoji no Stopword\"].astype(str))"
   ]
  },
  {
   "cell_type": "code",
   "execution_count": 12,
   "id": "b1ee7e4d",
   "metadata": {},
   "outputs": [
    {
     "data": {
      "text/html": [
       "<div>\n",
       "<style scoped>\n",
       "    .dataframe tbody tr th:only-of-type {\n",
       "        vertical-align: middle;\n",
       "    }\n",
       "\n",
       "    .dataframe tbody tr th {\n",
       "        vertical-align: top;\n",
       "    }\n",
       "\n",
       "    .dataframe thead th {\n",
       "        text-align: right;\n",
       "    }\n",
       "</style>\n",
       "<table border=\"1\" class=\"dataframe\">\n",
       "  <thead>\n",
       "    <tr style=\"text-align: right;\">\n",
       "      <th></th>\n",
       "      <th>No Stopword Text</th>\n",
       "      <th>Text with Emoji no Stopword</th>\n",
       "      <th>labels</th>\n",
       "      <th>token_no_emoji</th>\n",
       "      <th>token_with_emoji</th>\n",
       "    </tr>\n",
       "  </thead>\n",
       "  <tbody>\n",
       "    <tr>\n",
       "      <th>0</th>\n",
       "      <td>saat dekat ayah dekat sekarang selalu</td>\n",
       "      <td>saat dekat ayah dekat sekarang selalu tangan l...</td>\n",
       "      <td>0</td>\n",
       "      <td>[2, 305, 920, 2161, 920, 747, 811, 3, 0, 0, 0,...</td>\n",
       "      <td>[2, 305, 920, 2161, 920, 747, 811, 1122, 7290,...</td>\n",
       "    </tr>\n",
       "    <tr>\n",
       "      <th>1</th>\n",
       "      <td>susah ingat judul lagu hari tapi hampir semua ...</td>\n",
       "      <td>susah ingat judul lagu hari tapi hampir semua ...</td>\n",
       "      <td>0</td>\n",
       "      <td>[2, 3684, 3100, 3011, 1885, 406, 469, 1856, 36...</td>\n",
       "      <td>[2, 3684, 3100, 3011, 1885, 406, 469, 1856, 36...</td>\n",
       "    </tr>\n",
       "    <tr>\n",
       "      <th>2</th>\n",
       "      <td>lalu kamu minta foto kontak biar lihat dan nya...</td>\n",
       "      <td>lalu kamu minta foto kontak biar lihat dan nya...</td>\n",
       "      <td>1</td>\n",
       "      <td>[2, 629, 508, 2757, 1072, 3865, 3308, 1173, 41...</td>\n",
       "      <td>[2, 629, 508, 2757, 1072, 3865, 3308, 1173, 41...</td>\n",
       "    </tr>\n",
       "    <tr>\n",
       "      <th>3</th>\n",
       "      <td>jurassic babi perut babi cabai lengket glasir ...</td>\n",
       "      <td>jurassic babi perut babi cabai lengket glasir ...</td>\n",
       "      <td>0</td>\n",
       "      <td>[2, 11195, 14508, 29851, 7996, 3318, 7996, 100...</td>\n",
       "      <td>[2, 11195, 14508, 29851, 7996, 3318, 7996, 100...</td>\n",
       "    </tr>\n",
       "    <tr>\n",
       "      <th>4</th>\n",
       "      <td>aman datang malam perempuan nyuruh buat tenang...</td>\n",
       "      <td>aman datang malam perempuan nyuruh buat tenang...</td>\n",
       "      <td>0</td>\n",
       "      <td>[2, 1703, 1095, 1217, 1747, 794, 782, 968, 413...</td>\n",
       "      <td>[2, 1703, 1095, 1217, 1747, 794, 782, 968, 413...</td>\n",
       "    </tr>\n",
       "    <tr>\n",
       "      <th>5</th>\n",
       "      <td>gak ngerti cewek marah cuma gara gara cowok</td>\n",
       "      <td>gak ngerti cewek marah cuma gara gara cowok wa...</td>\n",
       "      <td>1</td>\n",
       "      <td>[2, 1489, 12056, 2956, 4700, 2279, 14368, 1436...</td>\n",
       "      <td>[2, 1489, 12056, 2956, 4700, 2279, 14368, 1436...</td>\n",
       "    </tr>\n",
       "    <tr>\n",
       "      <th>6</th>\n",
       "      <td>gak ngerti finsta kalian posting foto gak nyam...</td>\n",
       "      <td>gak ngerti finsta kalian posting foto gak nyam...</td>\n",
       "      <td>1</td>\n",
       "      <td>[2, 1489, 12056, 4182, 764, 29832, 1504, 5554,...</td>\n",
       "      <td>[2, 1489, 12056, 4182, 764, 29832, 1504, 5554,...</td>\n",
       "    </tr>\n",
       "    <tr>\n",
       "      <th>7</th>\n",
       "      <td>baru nonton fishermentokings dokumenter fotogr...</td>\n",
       "      <td>baru nonton fishermentokings dokumenter fotogr...</td>\n",
       "      <td>0</td>\n",
       "      <td>[2, 440, 5888, 12327, 6418, 23657, 11218, 2984...</td>\n",
       "      <td>[2, 440, 5888, 12327, 6418, 23657, 11218, 2984...</td>\n",
       "    </tr>\n",
       "    <tr>\n",
       "      <th>8</th>\n",
       "      <td>twitter butuh banget tombol sunting tweet</td>\n",
       "      <td>twitter butuh banget tombol sunting tweet waja...</td>\n",
       "      <td>1</td>\n",
       "      <td>[2, 4684, 2655, 2174, 4221, 21576, 10212, 3, 0...</td>\n",
       "      <td>[2, 4684, 2655, 2174, 4221, 21576, 10212, 1769...</td>\n",
       "    </tr>\n",
       "    <tr>\n",
       "      <th>9</th>\n",
       "      <td>sangat benci orang</td>\n",
       "      <td>sangat benci orang wajah air mata gembira waja...</td>\n",
       "      <td>1</td>\n",
       "      <td>[2, 310, 11940, 232, 3, 0, 0, 0, 0, 0, 0, 0, 0...</td>\n",
       "      <td>[2, 310, 11940, 232, 1769, 514, 1163, 8501, 17...</td>\n",
       "    </tr>\n",
       "  </tbody>\n",
       "</table>\n",
       "</div>"
      ],
      "text/plain": [
       "                                    No Stopword Text  \\\n",
       "0              saat dekat ayah dekat sekarang selalu   \n",
       "1  susah ingat judul lagu hari tapi hampir semua ...   \n",
       "2  lalu kamu minta foto kontak biar lihat dan nya...   \n",
       "3  jurassic babi perut babi cabai lengket glasir ...   \n",
       "4  aman datang malam perempuan nyuruh buat tenang...   \n",
       "5        gak ngerti cewek marah cuma gara gara cowok   \n",
       "6  gak ngerti finsta kalian posting foto gak nyam...   \n",
       "7  baru nonton fishermentokings dokumenter fotogr...   \n",
       "8          twitter butuh banget tombol sunting tweet   \n",
       "9                                 sangat benci orang   \n",
       "\n",
       "                         Text with Emoji no Stopword  labels  \\\n",
       "0  saat dekat ayah dekat sekarang selalu tangan l...       0   \n",
       "1  susah ingat judul lagu hari tapi hampir semua ...       0   \n",
       "2  lalu kamu minta foto kontak biar lihat dan nya...       1   \n",
       "3  jurassic babi perut babi cabai lengket glasir ...       0   \n",
       "4  aman datang malam perempuan nyuruh buat tenang...       0   \n",
       "5  gak ngerti cewek marah cuma gara gara cowok wa...       1   \n",
       "6  gak ngerti finsta kalian posting foto gak nyam...       1   \n",
       "7  baru nonton fishermentokings dokumenter fotogr...       0   \n",
       "8  twitter butuh banget tombol sunting tweet waja...       1   \n",
       "9  sangat benci orang wajah air mata gembira waja...       1   \n",
       "\n",
       "                                      token_no_emoji  \\\n",
       "0  [2, 305, 920, 2161, 920, 747, 811, 3, 0, 0, 0,...   \n",
       "1  [2, 3684, 3100, 3011, 1885, 406, 469, 1856, 36...   \n",
       "2  [2, 629, 508, 2757, 1072, 3865, 3308, 1173, 41...   \n",
       "3  [2, 11195, 14508, 29851, 7996, 3318, 7996, 100...   \n",
       "4  [2, 1703, 1095, 1217, 1747, 794, 782, 968, 413...   \n",
       "5  [2, 1489, 12056, 2956, 4700, 2279, 14368, 1436...   \n",
       "6  [2, 1489, 12056, 4182, 764, 29832, 1504, 5554,...   \n",
       "7  [2, 440, 5888, 12327, 6418, 23657, 11218, 2984...   \n",
       "8  [2, 4684, 2655, 2174, 4221, 21576, 10212, 3, 0...   \n",
       "9  [2, 310, 11940, 232, 3, 0, 0, 0, 0, 0, 0, 0, 0...   \n",
       "\n",
       "                                    token_with_emoji  \n",
       "0  [2, 305, 920, 2161, 920, 747, 811, 1122, 7290,...  \n",
       "1  [2, 3684, 3100, 3011, 1885, 406, 469, 1856, 36...  \n",
       "2  [2, 629, 508, 2757, 1072, 3865, 3308, 1173, 41...  \n",
       "3  [2, 11195, 14508, 29851, 7996, 3318, 7996, 100...  \n",
       "4  [2, 1703, 1095, 1217, 1747, 794, 782, 968, 413...  \n",
       "5  [2, 1489, 12056, 2956, 4700, 2279, 14368, 1436...  \n",
       "6  [2, 1489, 12056, 4182, 764, 29832, 1504, 5554,...  \n",
       "7  [2, 440, 5888, 12327, 6418, 23657, 11218, 2984...  \n",
       "8  [2, 4684, 2655, 2174, 4221, 21576, 10212, 1769...  \n",
       "9  [2, 310, 11940, 232, 1769, 514, 1163, 8501, 17...  "
      ]
     },
     "execution_count": 12,
     "metadata": {},
     "output_type": "execute_result"
    }
   ],
   "source": [
    "clean_df.head(10)"
   ]
  },
  {
   "cell_type": "markdown",
   "id": "e1f71cdc",
   "metadata": {},
   "source": [
    "## SMOTE Oversampling"
   ]
  },
  {
   "cell_type": "code",
   "execution_count": 14,
   "id": "e17317c6",
   "metadata": {},
   "outputs": [],
   "source": [
    "X = np.array(clean_df[\"token_no_emoji\"].tolist())\n",
    "y = clean_df[\"labels\"].values"
   ]
  },
  {
   "cell_type": "code",
   "execution_count": 15,
   "id": "1bf37765",
   "metadata": {},
   "outputs": [],
   "source": [
    "sm = SMOTE(random_state=42, sampling_strategy='auto')\n",
    "X_resampled, y_resampled = sm.fit_resample(X, y)"
   ]
  },
  {
   "cell_type": "markdown",
   "id": "7c8eb348",
   "metadata": {},
   "source": [
    "## Check Oversampling Result "
   ]
  },
  {
   "cell_type": "code",
   "execution_count": 18,
   "id": "1aef2047",
   "metadata": {},
   "outputs": [
    {
     "name": "stdout",
     "output_type": "stream",
     "text": [
      "\n",
      "Sushil Label counts after SMOTE:\n",
      "Counter({np.int64(0): 16798, np.int64(1): 16798})\n"
     ]
    }
   ],
   "source": [
    "print(\"\\nSushil Label counts after SMOTE:\")\n",
    "print(Counter(y_resampled))"
   ]
  },
  {
   "cell_type": "code",
   "execution_count": 19,
   "id": "0919d3b0",
   "metadata": {},
   "outputs": [
    {
     "data": {
      "image/png": "[encoded data removed]",
      "text/plain": [
       "<Figure size 600x600 with 1 Axes>"
      ]
     },
     "metadata": {},
     "output_type": "display_data"
    }
   ],
   "source": [
    "plt.figure(figsize=(6, 6))\n",
    "sns.barplot(x=list(Counter(y_resampled).keys()), y=list(Counter(y_resampled).values()), color='blue')\n",
    "plt.title(\"Sushil Label Distribution After SMOTE\", fontsize=13)\n",
    "plt.xlabel(\"Label\")\n",
    "plt.ylabel(\"Count\")\n",
    "plt.tight_layout()\n",
    "plt.show()"
   ]
  },
  {
   "cell_type": "markdown",
   "id": "5e86ce87",
   "metadata": {},
   "source": [
    "## Save Result"
   ]
  },
  {
   "cell_type": "code",
   "execution_count": 20,
   "id": "29adc2e8",
   "metadata": {},
   "outputs": [],
   "source": [
    "clean_df.to_csv(\"dataset/Sushil/tokenized_original.csv\", index=False)"
   ]
  },
  {
   "cell_type": "code",
   "execution_count": 21,
   "id": "acde6ede",
   "metadata": {},
   "outputs": [],
   "source": [
    "# Save SMOTE results for token_no_emoji\n",
    "resampled_df_no_emoji = pd.DataFrame(X_resampled.tolist())\n",
    "resampled_df_no_emoji['label'] = y_resampled\n",
    "resampled_df_no_emoji.to_csv(\"dataset/Sushil/tokenized_smote_no_emoji.csv\", index=False)"
   ]
  },
  {
   "cell_type": "code",
   "execution_count": 22,
   "id": "76c81129",
   "metadata": {},
   "outputs": [],
   "source": [
    "# Save SMOTE results for token_with_emoji (optional repeat)\n",
    "X2 = np.array(clean_df[\"token_with_emoji\"].tolist())\n",
    "X2_resampled, y2_resampled = sm.fit_resample(X2, y)\n",
    "resampled_df_with_emoji = pd.DataFrame(X2_resampled.tolist())\n",
    "resampled_df_with_emoji['label'] = y2_resampled\n",
    "resampled_df_with_emoji.to_csv(\"dataset/Sushil/tokenized_smote_with_emoji.csv\", index=False)"
   ]
  },
  {
   "cell_type": "markdown",
   "id": "6d0364b9",
   "metadata": {},
   "source": [
    "## Train Test Split "
   ]
  },
  {
   "cell_type": "code",
   "execution_count": 23,
   "id": "17d199d8",
   "metadata": {},
   "outputs": [],
   "source": [
    "def split_and_save(dataframe, output_dir, name_prefix):\n",
    "    # Split 80% train, 20% temp\n",
    "    train_df, temp_df = train_test_split(dataframe, test_size=0.2, stratify=dataframe['label'], random_state=42)\n",
    "\n",
    "    # Split 10% val, 10% test from temp (50:50 split of 20%)\n",
    "    val_df, test_df = train_test_split(temp_df, test_size=0.5, stratify=temp_df['label'], random_state=42)\n",
    "\n",
    "    # Create output directory if it doesn't exist\n",
    "    os.makedirs(output_dir, exist_ok=True)\n",
    "\n",
    "    # Save files\n",
    "    train_df.to_csv(f\"{output_dir}/{name_prefix}_train.csv\", index=False)\n",
    "    val_df.to_csv(f\"{output_dir}/{name_prefix}_val.csv\", index=False)\n",
    "    test_df.to_csv(f\"{output_dir}/{name_prefix}_test.csv\", index=False)"
   ]
  },
  {
   "cell_type": "code",
   "execution_count": 24,
   "id": "22e444e1",
   "metadata": {},
   "outputs": [],
   "source": [
    "df_no_emoji = pd.read_csv(\"dataset/Sushil/tokenized_smote_no_emoji.csv\")\n",
    "df_with_emoji = pd.read_csv(\"dataset/Sushil/tokenized_smote_with_emoji.csv\")\n",
    "\n",
    "split_and_save(df_no_emoji, \"dataset/Sushil/TTVWE\", \"no_emoji\")\n",
    "split_and_save(df_with_emoji, \"dataset/Sushil/TTVED\", \"with_emoji\")"
   ]
  }
 ],
 "metadata": {
  "kernelspec": {
   "display_name": "env",
   "language": "python",
   "name": "python3"
  },
  "language_info": {
   "codemirror_mode": {
    "name": "ipython",
    "version": 3
   },
   "file_extension": ".py",
   "mimetype": "text/x-python",
   "name": "python",
   "nbconvert_exporter": "python",
   "pygments_lexer": "ipython3",
   "version": "3.12.0"
  }
 },
 "nbformat": 4,
 "nbformat_minor": 5
}
