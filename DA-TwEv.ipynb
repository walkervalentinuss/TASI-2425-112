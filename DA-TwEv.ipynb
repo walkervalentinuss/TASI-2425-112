{
 "cells": [
  {
   "cell_type": "markdown",
   "id": "665ce028",
   "metadata": {},
   "source": [
    "# Dataset TweetEval\n",
    "###### src=\"@inproceedings{barbieri2020tweeteval, title={{TweetEval:Unified Benchmark and Comparative Evaluation for Tweet Classification}}, author={Barbieri, Francesco and Camacho-Collados, Jose and Espinosa-Anke, Luis and Neves, Leonardo}, booktitle={Proceedings of Findings of EMNLP}, year={2020}}\""
   ]
  },
  {
   "cell_type": "markdown",
   "id": "26232c6b",
   "metadata": {},
   "source": [
    "## Import Libraries"
   ]
  },
  {
   "cell_type": "code",
   "execution_count": 1,
   "id": "65ac6f35",
   "metadata": {},
   "outputs": [],
   "source": [
    "import pandas as pd\n",
    "import html\n",
    "import emoji\n",
    "from collections import Counter\n",
    "import warnings"
   ]
  },
  {
   "cell_type": "code",
   "execution_count": 2,
   "id": "024e1fcd",
   "metadata": {},
   "outputs": [],
   "source": [
    "pd.set_option('display.max_colwidth', None)\n",
    "warnings.simplefilter(action='ignore', category=FutureWarning)"
   ]
  },
  {
   "cell_type": "markdown",
   "id": "a6316712",
   "metadata": {},
   "source": [
    "## Utility Functions"
   ]
  },
  {
   "cell_type": "code",
   "execution_count": 3,
   "id": "40f12422",
   "metadata": {},
   "outputs": [],
   "source": [
    "def contains_emoji(text):\n",
    "    return isinstance(text, str) and bool(emoji.emoji_list(text))\n",
    "\n",
    "def extract_emojis(text):\n",
    "    return [e[\"emoji\"] for e in emoji.emoji_list(text)]\n",
    "\n",
    "def format_emojis(emojis):\n",
    "    return \" \".join(emojis) if isinstance(emojis, list) else emojis\n",
    "\n",
    "def get_most_least_common_emojis(df, emoji_column=\"emoji\", top_n=1):\n",
    "    all_emojis = [e for em in df[emoji_column] for e in em.split()]\n",
    "    counts = Counter(all_emojis)\n",
    "    return counts.most_common(top_n), counts.most_common()[-top_n:]\n",
    "\n",
    "def get_most_common_emojis_by_label(df, emoji_column=\"emoji\", label_column=\"label\", top_n=10):\n",
    "    result = {}\n",
    "    for label in df[label_column].unique():\n",
    "        emojis = [e for em in df[df[label_column] == label][emoji_column] for e in em.split()]\n",
    "        result[label] = Counter(emojis).most_common(top_n)\n",
    "    return result\n",
    "\n",
    "def merge_text_label(text_file, label_file, output_csv):\n",
    "    with open(text_file, \"r\", encoding=\"utf-8\") as f:\n",
    "        texts = f.readlines()\n",
    "    with open(label_file, \"r\", encoding=\"utf-8\") as f:\n",
    "        labels = f.readlines()\n",
    "    if len(texts) != len(labels):\n",
    "        print(f\"Mismatch: {text_file} vs {label_file}\")\n",
    "        return\n",
    "    df = pd.DataFrame({\"text\": [t.strip() for t in texts], \"label\": [l.strip() for l in labels]})\n",
    "    df.to_csv(output_csv, index=False)\n",
    "    print(f\"Saved to {output_csv}\")"
   ]
  },
  {
   "cell_type": "markdown",
   "id": "ded9527c",
   "metadata": {},
   "source": [
    "## Main Processing Function"
   ]
  },
  {
   "cell_type": "code",
   "execution_count": 4,
   "id": "29f9ac94",
   "metadata": {},
   "outputs": [],
   "source": [
    "def process_tweeteval_emoji(df, save_path=\"dataset/TwEv/output.csv\"):\n",
    "    df = df[df[\"text\"].apply(contains_emoji)].copy()\n",
    "    df[\"emoji\"] = df[\"text\"].astype(str).apply(extract_emojis).apply(format_emojis)\n",
    "    \n",
    "    # Save processed data\n",
    "    df.to_csv(save_path, index=False)\n",
    "    \n",
    "    # Analysis output\n",
    "    most_common, least_common = get_most_least_common_emojis(df)\n",
    "    print(\"Most common emoji:\", most_common)\n",
    "    print(\"Least common emoji:\", least_common)\n",
    "    \n",
    "    emoji_by_label = get_most_common_emojis_by_label(df)\n",
    "    for label, items in emoji_by_label.items():\n",
    "        print(f\"\\nTop emojis for label {label}: {items}\")\n",
    "    \n",
    "    return df"
   ]
  },
  {
   "cell_type": "markdown",
   "id": "c43735a1",
   "metadata": {},
   "source": [
    "## Train and Test Processing"
   ]
  },
  {
   "cell_type": "code",
   "execution_count": 5,
   "id": "a628449b",
   "metadata": {},
   "outputs": [
    {
     "name": "stdout",
     "output_type": "stream",
     "text": [
      "Saved to dataset/TwEv/train.csv\n",
      "Saved to dataset/TwEv/val.csv\n",
      "Saved to dataset/TwEv/test.csv\n"
     ]
    }
   ],
   "source": [
    "# === Step 1: Merge TXT to CSV (only run once if needed) ===\n",
    "merge_text_label(\"dataset/TwEv/train_text.txt\", \"dataset/TwEv/train_labels.txt\", \"dataset/TwEv/train.csv\")\n",
    "merge_text_label(\"dataset/TwEv/val_text.txt\", \"dataset/TwEv/val_labels.txt\", \"dataset/TwEv/val.csv\")\n",
    "merge_text_label(\"dataset/TwEv/test_text.txt\", \"dataset/TwEv/test_labels.txt\", \"dataset/TwEv/test.csv\")"
   ]
  },
  {
   "cell_type": "code",
   "execution_count": 6,
   "id": "cd94ebac",
   "metadata": {},
   "outputs": [],
   "source": [
    "train_df = pd.read_csv(\"dataset/TwEv/train.csv\")\n",
    "test_df = pd.read_csv(\"dataset/TwEv/test.csv\")\n",
    "val_df = pd.read_csv(\"dataset/TwEv/val.csv\")"
   ]
  },
  {
   "cell_type": "code",
   "execution_count": 7,
   "id": "44f0a25b",
   "metadata": {},
   "outputs": [
    {
     "name": "stdout",
     "output_type": "stream",
     "text": [
      "Most common emoji: [('😂', 241)]\n",
      "Least common emoji: [('💞', 1)]\n",
      "\n",
      "Top emojis for label 1: [('😂', 127), ('😭', 30), ('🔨', 22), ('💦', 20), ('💯', 18), ('😘', 15), ('👏', 11), ('🤬', 9), ('🙄', 8), ('🤣', 8)]\n",
      "\n",
      "Top emojis for label 0: [('😂', 114), ('😭', 32), ('😘', 30), ('🙃', 25), ('😊', 19), ('©', 19), ('🤔', 16), ('🙄', 11), ('👏🏾', 10), ('😎', 10)]\n"
     ]
    }
   ],
   "source": [
    "train_emoji_df = process_tweeteval_emoji(train_df, \"dataset/TwEv/train_emoji.csv\")"
   ]
  },
  {
   "cell_type": "code",
   "execution_count": 8,
   "id": "5f8240ce",
   "metadata": {},
   "outputs": [
    {
     "name": "stdout",
     "output_type": "stream",
     "text": [
      "Most common emoji: [('😊', 8)]\n",
      "Least common emoji: [('😭', 1)]\n",
      "\n",
      "Top emojis for label 0: [('😊', 3), ('🤣', 2), ('®', 2), ('😒', 2), ('😳', 1), ('👇', 1), ('😂', 1), ('😠', 1), ('❤️', 1), ('📚', 1)]\n",
      "\n",
      "Top emojis for label 1: [('😊', 5), ('🇺🇸', 5), ('™', 3), ('➡️', 1), ('‼️', 1)]\n"
     ]
    }
   ],
   "source": [
    "val_emoji_df = process_tweeteval_emoji(val_df, \"dataset/TwEv/val_emoji.csv\")"
   ]
  },
  {
   "cell_type": "code",
   "execution_count": 9,
   "id": "11e9e545",
   "metadata": {},
   "outputs": [
    {
     "name": "stdout",
     "output_type": "stream",
     "text": [
      "Most common emoji: [('😂', 262)]\n",
      "Least common emoji: [('💩', 1)]\n",
      "\n",
      "Top emojis for label 1: [('😂', 136), ('😭', 19), ('💯', 15), ('🙄', 15), ('😒', 12), ('🖕', 12), ('😘', 10), ('🤔', 8), ('😇', 7), ('🙃', 6)]\n",
      "\n",
      "Top emojis for label 0: [('😂', 126), ('😍', 16), ('😭', 14), ('❤️', 11), ('🙄', 8), ('💯', 8), ('💖', 8), ('😘', 7), ('👀', 7), ('💀', 6)]\n"
     ]
    }
   ],
   "source": [
    "test_emoji_df = process_tweeteval_emoji(test_df, \"dataset/TwEv/test_emoji.csv\")"
   ]
  }
 ],
 "metadata": {
  "kernelspec": {
   "display_name": "env",
   "language": "python",
   "name": "python3"
  },
  "language_info": {
   "codemirror_mode": {
    "name": "ipython",
    "version": 3
   },
   "file_extension": ".py",
   "mimetype": "text/x-python",
   "name": "python",
   "nbconvert_exporter": "python",
   "pygments_lexer": "ipython3",
   "version": "3.8.5"
  }
 },
 "nbformat": 4,
 "nbformat_minor": 5
}
