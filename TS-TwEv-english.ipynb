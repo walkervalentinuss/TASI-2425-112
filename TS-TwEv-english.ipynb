{
 "cells": [
  {
   "cell_type": "markdown",
   "id": "f75ca350",
   "metadata": {},
   "source": [
    "# Text Tokenization TweetEval"
   ]
  },
  {
   "cell_type": "markdown",
   "id": "aa46213e",
   "metadata": {},
   "source": [
    "## Import & Setup"
   ]
  },
  {
   "cell_type": "code",
   "execution_count": 1,
   "id": "dce9ab42",
   "metadata": {},
   "outputs": [
    {
     "name": "stderr",
     "output_type": "stream",
     "text": [
      "c:\\Users\\walkervalentinus\\Documents\\PERKULIAHAN\\Final_Year\\SEMHAS\\tasi2425112-3.8-english\\env\\lib\\site-packages\\tqdm\\auto.py:21: TqdmWarning: IProgress not found. Please update jupyter and ipywidgets. See https://ipywidgets.readthedocs.io/en/stable/user_install.html\n",
      "  from .autonotebook import tqdm as notebook_tqdm\n"
     ]
    }
   ],
   "source": [
    "import pandas as pd\n",
    "import matplotlib.pyplot as plt\n",
    "import seaborn as sns\n",
    "import numpy as np\n",
    "import os\n",
    "\n",
    "from collections import Counter\n",
    "from imblearn.over_sampling import SMOTE\n",
    "from transformers import BertTokenizer\n",
    "from sklearn.model_selection import train_test_split"
   ]
  },
  {
   "cell_type": "markdown",
   "id": "042114ea",
   "metadata": {},
   "source": [
    "## Load Data"
   ]
  },
  {
   "cell_type": "code",
   "execution_count": 2,
   "id": "0b2844fa",
   "metadata": {},
   "outputs": [],
   "source": [
    "clean_df = pd.read_csv(\"dataset/TwEv/clean.csv\")"
   ]
  },
  {
   "cell_type": "markdown",
   "id": "2cd91ad1",
   "metadata": {},
   "source": [
    "## Check Label Distribution (Imbalance Analysis)"
   ]
  },
  {
   "cell_type": "code",
   "execution_count": 3,
   "id": "efc2c135",
   "metadata": {},
   "outputs": [],
   "source": [
    "# Label count\n",
    "label_counts = clean_df[\"label\"].value_counts().sort_index()\n",
    "labels = label_counts.index\n",
    "counts = label_counts.values"
   ]
  },
  {
   "cell_type": "code",
   "execution_count": 4,
   "id": "723001ed",
   "metadata": {},
   "outputs": [],
   "source": [
    "# Get majority and minority label\n",
    "major_label = label_counts.idxmax()\n",
    "minor_label = label_counts.idxmin()"
   ]
  },
  {
   "cell_type": "code",
   "execution_count": 5,
   "id": "6b9bee1c",
   "metadata": {},
   "outputs": [],
   "source": [
    "# Count percentage \n",
    "total = counts.sum()\n",
    "diff_percent = ((counts.max() - counts.min()) / total) * 100"
   ]
  },
  {
   "cell_type": "code",
   "execution_count": 6,
   "id": "6230c8ec",
   "metadata": {},
   "outputs": [],
   "source": [
    "plot_df = pd.DataFrame({\n",
    "    \"Label\": labels,\n",
    "    \"Count\": counts,\n",
    "    \"Category\": [\"Major\" if l == major_label else \"Minor\" for l in labels]\n",
    "})"
   ]
  },
  {
   "cell_type": "code",
   "execution_count": 7,
   "id": "888e58cb",
   "metadata": {},
   "outputs": [],
   "source": [
    "color_map = {\"Major\": \"blue\", \"Minor\": \"red\"}"
   ]
  },
  {
   "cell_type": "code",
   "execution_count": 8,
   "id": "1daf5fdb",
   "metadata": {},
   "outputs": [
    {
     "data": {
      "image/png": "[encoded data removed]",
      "text/plain": [
       "<Figure size 600x800 with 1 Axes>"
      ]
     },
     "metadata": {},
     "output_type": "display_data"
    }
   ],
   "source": [
    "# Plot\n",
    "plt.figure(figsize=(6, 8))\n",
    "ax = sns.barplot(data=plot_df, x=\"Label\", y=\"Count\", hue=\"Category\", palette=color_map, dodge=False)\n",
    "ax.legend_.remove() \n",
    "\n",
    "# Add percentage above the bar\n",
    "for i, count in enumerate(counts):\n",
    "    pct = (count / total) * 100\n",
    "    plt.text(i, count + 5, f\"{pct:.1f}%\", ha='center', va='bottom', fontsize=11, fontweight='bold')\n",
    "\n",
    "# Title and label\n",
    "plt.title(f\"TweetEval Label Distribution Before SMOTE\\nDifference: {diff_percent:.1f}%\", fontsize=13)\n",
    "plt.xlabel(\"Label\")\n",
    "plt.ylabel(\"Count\")\n",
    "plt.tight_layout()\n",
    "plt.show()"
   ]
  },
  {
   "cell_type": "markdown",
   "id": "11ac6aff",
   "metadata": {},
   "source": [
    "## Tokenization"
   ]
  },
  {
   "cell_type": "code",
   "execution_count": 9,
   "id": "72681d89",
   "metadata": {},
   "outputs": [
    {
     "name": "stderr",
     "output_type": "stream",
     "text": [
      "The tokenizer class you load from this checkpoint is not the same type as the class this function is called from. It may result in unexpected tokenization. \n",
      "The tokenizer class you load from this checkpoint is 'AlbertTokenizerFast'. \n",
      "The class this function is called from is 'BertTokenizer'.\n"
     ]
    }
   ],
   "source": [
    "# Load tokenizer\n",
    "tokenizer = BertTokenizer.from_pretrained(\"indobenchmark/indobert-lite-base-p1\")"
   ]
  },
  {
   "cell_type": "code",
   "execution_count": 10,
   "id": "6569a00e",
   "metadata": {},
   "outputs": [],
   "source": [
    "def tokenize_column(texts):\n",
    "    return [tokenizer.encode(text, max_length=128, padding='max_length', truncation=True) for text in texts]"
   ]
  },
  {
   "cell_type": "code",
   "execution_count": 11,
   "id": "6b4bc44a",
   "metadata": {},
   "outputs": [],
   "source": [
    "clean_df[\"token_no_emoji\"] = tokenize_column(clean_df[\"No Stopword Text\"].astype(str))\n",
    "clean_df[\"token_with_emoji\"] = tokenize_column(clean_df[\"Text with Emoji no Stopword\"].astype(str))"
   ]
  },
  {
   "cell_type": "code",
   "execution_count": 12,
   "id": "506b1eae",
   "metadata": {},
   "outputs": [
    {
     "data": {
      "text/html": [
       "<div>\n",
       "<style scoped>\n",
       "    .dataframe tbody tr th:only-of-type {\n",
       "        vertical-align: middle;\n",
       "    }\n",
       "\n",
       "    .dataframe tbody tr th {\n",
       "        vertical-align: top;\n",
       "    }\n",
       "\n",
       "    .dataframe thead th {\n",
       "        text-align: right;\n",
       "    }\n",
       "</style>\n",
       "<table border=\"1\" class=\"dataframe\">\n",
       "  <thead>\n",
       "    <tr style=\"text-align: right;\">\n",
       "      <th></th>\n",
       "      <th>No Stopword Text</th>\n",
       "      <th>Text with Emoji no Stopword</th>\n",
       "      <th>label</th>\n",
       "      <th>token_no_emoji</th>\n",
       "      <th>token_with_emoji</th>\n",
       "    </tr>\n",
       "  </thead>\n",
       "  <tbody>\n",
       "    <tr>\n",
       "      <th>0</th>\n",
       "      <td>woman fuck multipl time say yo dick small comp...</td>\n",
       "      <td>woman fuck multipl time say yo dick small comp...</td>\n",
       "      <td>1</td>\n",
       "      <td>[2, 26878, 6286, 2948, 14804, 29844, 6199, 136...</td>\n",
       "      <td>[2, 26878, 6286, 2948, 14804, 29844, 6199, 136...</td>\n",
       "    </tr>\n",
       "    <tr>\n",
       "      <th>1</th>\n",
       "      <td>go ex bf lie sack shit im done dude whi dump a...</td>\n",
       "      <td>go ex bf lie sack shit im done dude whi dump a...</td>\n",
       "      <td>1</td>\n",
       "      <td>[2, 1563, 1669, 27924, 29568, 20365, 29839, 15...</td>\n",
       "      <td>[2, 1563, 1669, 27924, 29568, 20365, 29839, 15...</td>\n",
       "    </tr>\n",
       "    <tr>\n",
       "      <th>2</th>\n",
       "      <td>wonder caitlyn get car servic</td>\n",
       "      <td>wonder caitlyn get car servic new moon face</td>\n",
       "      <td>0</td>\n",
       "      <td>[2, 21215, 2256, 47, 27811, 6085, 2035, 28918,...</td>\n",
       "      <td>[2, 21215, 2256, 47, 27811, 6085, 2035, 28918,...</td>\n",
       "    </tr>\n",
       "    <tr>\n",
       "      <th>3</th>\n",
       "      <td>uhhhhhh stupid littl bitch maam</td>\n",
       "      <td>uhhhhhh stupid littl bitch maam wink face</td>\n",
       "      <td>1</td>\n",
       "      <td>[2, 11099, 22100, 29847, 1911, 6161, 29842, 16...</td>\n",
       "      <td>[2, 11099, 22100, 29847, 1911, 6161, 29842, 16...</td>\n",
       "    </tr>\n",
       "    <tr>\n",
       "      <th>4</th>\n",
       "      <td>matter color girl still ho</td>\n",
       "      <td>matter color girl still ho face tear joy face ...</td>\n",
       "      <td>1</td>\n",
       "      <td>[2, 25668, 29837, 12583, 12647, 25756, 3074, 3...</td>\n",
       "      <td>[2, 25668, 29837, 12583, 12647, 25756, 3074, 1...</td>\n",
       "    </tr>\n",
       "    <tr>\n",
       "      <th>5</th>\n",
       "      <td>factcheck boycottunitedarlin aidingandabet fel...</td>\n",
       "      <td>factcheck boycottunitedarlin aidingandabet fel...</td>\n",
       "      <td>0</td>\n",
       "      <td>[2, 2074, 20460, 4132, 2948, 6135, 1552, 11476...</td>\n",
       "      <td>[2, 2074, 20460, 4132, 2948, 6135, 1552, 11476...</td>\n",
       "    </tr>\n",
       "    <tr>\n",
       "      <th>6</th>\n",
       "      <td>know women stupid like youre_ bitch pleas fuck...</td>\n",
       "      <td>know women stupid like youre_ bitch pleas fuck...</td>\n",
       "      <td>1</td>\n",
       "      <td>[2, 11176, 22199, 1911, 6161, 29842, 9670, 728...</td>\n",
       "      <td>[2, 11176, 22199, 1911, 6161, 29842, 9670, 728...</td>\n",
       "    </tr>\n",
       "    <tr>\n",
       "      <th>7</th>\n",
       "      <td>pronounc whore eye cunt</td>\n",
       "      <td>pronounc whore eye cunt red heart</td>\n",
       "      <td>0</td>\n",
       "      <td>[2, 2023, 1867, 749, 11075, 757, 18293, 4250, ...</td>\n",
       "      <td>[2, 2023, 1867, 749, 11075, 757, 18293, 4250, ...</td>\n",
       "    </tr>\n",
       "    <tr>\n",
       "      <th>8</th>\n",
       "      <td>women onli one think back rat hole never come ...</td>\n",
       "      <td>women onli one think back rat hole never come ...</td>\n",
       "      <td>1</td>\n",
       "      <td>[2, 22199, 490, 849, 6307, 15139, 4585, 1745, ...</td>\n",
       "      <td>[2, 22199, 490, 849, 6307, 15139, 4585, 1745, ...</td>\n",
       "    </tr>\n",
       "    <tr>\n",
       "      <th>9</th>\n",
       "      <td>never tri holla women diss school got call mis...</td>\n",
       "      <td>never tri holla women diss school got call mis...</td>\n",
       "      <td>0</td>\n",
       "      <td>[2, 27090, 3647, 25482, 29832, 22199, 268, 298...</td>\n",
       "      <td>[2, 27090, 3647, 25482, 29832, 22199, 268, 298...</td>\n",
       "    </tr>\n",
       "  </tbody>\n",
       "</table>\n",
       "</div>"
      ],
      "text/plain": [
       "                                    No Stopword Text  \\\n",
       "0  woman fuck multipl time say yo dick small comp...   \n",
       "1  go ex bf lie sack shit im done dude whi dump a...   \n",
       "2                      wonder caitlyn get car servic   \n",
       "3                    uhhhhhh stupid littl bitch maam   \n",
       "4                         matter color girl still ho   \n",
       "5  factcheck boycottunitedarlin aidingandabet fel...   \n",
       "6  know women stupid like youre_ bitch pleas fuck...   \n",
       "7                            pronounc whore eye cunt   \n",
       "8  women onli one think back rat hole never come ...   \n",
       "9  never tri holla women diss school got call mis...   \n",
       "\n",
       "                         Text with Emoji no Stopword  label  \\\n",
       "0  woman fuck multipl time say yo dick small comp...      1   \n",
       "1  go ex bf lie sack shit im done dude whi dump a...      1   \n",
       "2        wonder caitlyn get car servic new moon face      0   \n",
       "3          uhhhhhh stupid littl bitch maam wink face      1   \n",
       "4  matter color girl still ho face tear joy face ...      1   \n",
       "5  factcheck boycottunitedarlin aidingandabet fel...      0   \n",
       "6  know women stupid like youre_ bitch pleas fuck...      1   \n",
       "7                  pronounc whore eye cunt red heart      0   \n",
       "8  women onli one think back rat hole never come ...      1   \n",
       "9  never tri holla women diss school got call mis...      0   \n",
       "\n",
       "                                      token_no_emoji  \\\n",
       "0  [2, 26878, 6286, 2948, 14804, 29844, 6199, 136...   \n",
       "1  [2, 1563, 1669, 27924, 29568, 20365, 29839, 15...   \n",
       "2  [2, 21215, 2256, 47, 27811, 6085, 2035, 28918,...   \n",
       "3  [2, 11099, 22100, 29847, 1911, 6161, 29842, 16...   \n",
       "4  [2, 25668, 29837, 12583, 12647, 25756, 3074, 3...   \n",
       "5  [2, 2074, 20460, 4132, 2948, 6135, 1552, 11476...   \n",
       "6  [2, 11176, 22199, 1911, 6161, 29842, 9670, 728...   \n",
       "7  [2, 2023, 1867, 749, 11075, 757, 18293, 4250, ...   \n",
       "8  [2, 22199, 490, 849, 6307, 15139, 4585, 1745, ...   \n",
       "9  [2, 27090, 3647, 25482, 29832, 22199, 268, 298...   \n",
       "\n",
       "                                    token_with_emoji  \n",
       "0  [2, 26878, 6286, 2948, 14804, 29844, 6199, 136...  \n",
       "1  [2, 1563, 1669, 27924, 29568, 20365, 29839, 15...  \n",
       "2  [2, 21215, 2256, 47, 27811, 6085, 2035, 28918,...  \n",
       "3  [2, 11099, 22100, 29847, 1911, 6161, 29842, 16...  \n",
       "4  [2, 25668, 29837, 12583, 12647, 25756, 3074, 1...  \n",
       "5  [2, 2074, 20460, 4132, 2948, 6135, 1552, 11476...  \n",
       "6  [2, 11176, 22199, 1911, 6161, 29842, 9670, 728...  \n",
       "7  [2, 2023, 1867, 749, 11075, 757, 18293, 4250, ...  \n",
       "8  [2, 22199, 490, 849, 6307, 15139, 4585, 1745, ...  \n",
       "9  [2, 27090, 3647, 25482, 29832, 22199, 268, 298...  "
      ]
     },
     "execution_count": 12,
     "metadata": {},
     "output_type": "execute_result"
    }
   ],
   "source": [
    "clean_df.head(10)"
   ]
  },
  {
   "cell_type": "markdown",
   "id": "dc06c99d",
   "metadata": {},
   "source": [
    "## SMOTE Oversampling"
   ]
  },
  {
   "cell_type": "code",
   "execution_count": 13,
   "id": "1d25ec70",
   "metadata": {},
   "outputs": [],
   "source": [
    "X = np.array(clean_df[\"token_no_emoji\"].tolist())\n",
    "y = clean_df[\"label\"].values"
   ]
  },
  {
   "cell_type": "code",
   "execution_count": 14,
   "id": "71d47849",
   "metadata": {},
   "outputs": [],
   "source": [
    "sm = SMOTE(random_state=42, sampling_strategy='auto')\n",
    "X_resampled, y_resampled = sm.fit_resample(X, y)"
   ]
  },
  {
   "cell_type": "markdown",
   "id": "d042c8b0",
   "metadata": {},
   "source": [
    "## Check Oversampling Result "
   ]
  },
  {
   "cell_type": "code",
   "execution_count": 15,
   "id": "8427f4ef",
   "metadata": {},
   "outputs": [
    {
     "name": "stdout",
     "output_type": "stream",
     "text": [
      "\n",
      "TweetEval Label counts after SMOTE:\n",
      "Counter({1: 336, 0: 336})\n"
     ]
    }
   ],
   "source": [
    "print(\"\\nTweetEval Label counts after SMOTE:\")\n",
    "print(Counter(y_resampled))"
   ]
  },
  {
   "cell_type": "code",
   "execution_count": 16,
   "id": "a3612887",
   "metadata": {},
   "outputs": [
    {
     "data": {
      "image/png": "[encoded data removed]",
      "text/plain": [
       "<Figure size 600x600 with 1 Axes>"
      ]
     },
     "metadata": {},
     "output_type": "display_data"
    }
   ],
   "source": [
    "plt.figure(figsize=(6, 6))\n",
    "sns.barplot(x=list(Counter(y_resampled).keys()), y=list(Counter(y_resampled).values()), color='blue')\n",
    "plt.title(\"TweetEval Label Distribution After SMOTE\", fontsize=13)\n",
    "plt.xlabel(\"Label\")\n",
    "plt.ylabel(\"Count\")\n",
    "plt.tight_layout()\n",
    "plt.show()"
   ]
  },
  {
   "cell_type": "markdown",
   "id": "284bdff0",
   "metadata": {},
   "source": [
    "## Save Result"
   ]
  },
  {
   "cell_type": "code",
   "execution_count": 17,
   "id": "23b88325",
   "metadata": {},
   "outputs": [],
   "source": [
    "clean_df.to_csv(\"dataset/TwEv/tokenized_original.csv\", index=False)"
   ]
  },
  {
   "cell_type": "code",
   "execution_count": 18,
   "id": "2ba247f5",
   "metadata": {},
   "outputs": [],
   "source": [
    "# Save SMOTE results for token_no_emoji\n",
    "resampled_df_no_emoji = pd.DataFrame(X_resampled.tolist())\n",
    "resampled_df_no_emoji['label'] = y_resampled\n",
    "resampled_df_no_emoji.to_csv(\"dataset/TwEv/tokenized_smote_no_emoji.csv\", index=False)"
   ]
  },
  {
   "cell_type": "code",
   "execution_count": 19,
   "id": "0fbeb0d3",
   "metadata": {},
   "outputs": [],
   "source": [
    "# Save SMOTE results for token_with_emoji (optional repeat)\n",
    "X2 = np.array(clean_df[\"token_with_emoji\"].tolist())\n",
    "X2_resampled, y2_resampled = sm.fit_resample(X2, y)\n",
    "resampled_df_with_emoji = pd.DataFrame(X2_resampled.tolist())\n",
    "resampled_df_with_emoji['label'] = y2_resampled\n",
    "resampled_df_with_emoji.to_csv(\"dataset/TwEv/tokenized_smote_with_emoji.csv\", index=False)"
   ]
  },
  {
   "cell_type": "markdown",
   "id": "cd1b1d4d",
   "metadata": {},
   "source": [
    "## Train Test Split "
   ]
  },
  {
   "cell_type": "code",
   "execution_count": 20,
   "id": "74c7144c",
   "metadata": {},
   "outputs": [],
   "source": [
    "def split_and_save(dataframe, output_dir, name_prefix):\n",
    "    # Split 80% train, 20% temp\n",
    "    train_df, temp_df = train_test_split(dataframe, test_size=0.2, stratify=dataframe['label'], random_state=42)\n",
    "\n",
    "    # Split 10% val, 10% test from temp (50:50 split of 20%)\n",
    "    val_df, test_df = train_test_split(temp_df, test_size=0.5, stratify=temp_df['label'], random_state=42)\n",
    "\n",
    "    # Create output directory if it doesn't exist\n",
    "    os.makedirs(output_dir, exist_ok=True)\n",
    "\n",
    "    # Save files\n",
    "    train_df.to_csv(f\"{output_dir}/{name_prefix}_train.csv\", index=False)\n",
    "    val_df.to_csv(f\"{output_dir}/{name_prefix}_val.csv\", index=False)\n",
    "    test_df.to_csv(f\"{output_dir}/{name_prefix}_test.csv\", index=False)"
   ]
  },
  {
   "cell_type": "code",
   "execution_count": 21,
   "id": "faf1683c",
   "metadata": {},
   "outputs": [],
   "source": [
    "df_no_emoji = pd.read_csv(\"dataset/TwEv/tokenized_smote_no_emoji.csv\")\n",
    "df_with_emoji = pd.read_csv(\"dataset/TwEv/tokenized_smote_with_emoji.csv\")\n",
    "\n",
    "split_and_save(df_no_emoji, \"dataset/TwEv/TTVWE\", \"no_emoji\")\n",
    "split_and_save(df_with_emoji, \"dataset/TwEv/TTVED\", \"with_emoji\")"
   ]
  }
 ],
 "metadata": {
  "kernelspec": {
   "display_name": "env",
   "language": "python",
   "name": "python3"
  },
  "language_info": {
   "codemirror_mode": {
    "name": "ipython",
    "version": 3
   },
   "file_extension": ".py",
   "mimetype": "text/x-python",
   "name": "python",
   "nbconvert_exporter": "python",
   "pygments_lexer": "ipython3",
   "version": "3.8.5"
  }
 },
 "nbformat": 4,
 "nbformat_minor": 5
}
