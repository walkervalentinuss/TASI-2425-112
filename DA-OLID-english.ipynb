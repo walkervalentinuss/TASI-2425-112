{
 "cells": [
  {
   "cell_type": "markdown",
   "id": "8d9adf91",
   "metadata": {},
   "source": [
    "# Dataset OLID\n",
    "###### src=\"https://huggingface.co/datasets/christophsonntag/OLID/embed/viewer/1.0.0/train\""
   ]
  },
  {
   "cell_type": "markdown",
   "id": "c1c8ec85",
   "metadata": {},
   "source": [
    "## Import Libraries"
   ]
  },
  {
   "cell_type": "code",
   "execution_count": 1,
   "id": "8e02ed83",
   "metadata": {},
   "outputs": [],
   "source": [
    "import pandas as pd\n",
    "import html\n",
    "import emoji\n",
    "from collections import Counter\n",
    "import warnings"
   ]
  },
  {
   "cell_type": "code",
   "execution_count": 2,
   "id": "3c95ea11",
   "metadata": {},
   "outputs": [],
   "source": [
    "pd.set_option('display.max_colwidth', None)\n",
    "warnings.simplefilter(action='ignore', category=FutureWarning)"
   ]
  },
  {
   "cell_type": "markdown",
   "id": "e94e9dd0",
   "metadata": {},
   "source": [
    "## Utility Functions"
   ]
  },
  {
   "cell_type": "code",
   "execution_count": 3,
   "id": "b50c911c",
   "metadata": {},
   "outputs": [],
   "source": [
    "def contains_emoji(text):\n",
    "    return isinstance(text, str) and bool(emoji.emoji_list(text))\n",
    "\n",
    "def extract_emojis(text):\n",
    "    return[e[\"emoji\"] for e in emoji.emoji_list(text)]\n",
    "\n",
    "def format_emojis(emojis):\n",
    "    return \" \".join(emojis) if isinstance(emojis, list) else emojis\n",
    "\n",
    "def get_most_least_common_emojis(df, emoji_column=\"emoji\", label_column=\"label\", top_n=1):\n",
    "    all_emojis = [e for em_list in df[emoji_column] for e in em_list.split()]\n",
    "    counts = Counter(all_emojis)\n",
    "    return counts.most_common(top_n), counts.most_common()[-top_n:]\n",
    "\n",
    "def get_most_common_emojis_by_label(df, emoji_column=\"emoji\", label_column=\"label\", top_n=10):\n",
    "    result = {}\n",
    "    for label in df[label_column].unique():\n",
    "        emojis = [e for text in df[df[label_column] == label][emoji_column] for e in text.split()]\n",
    "        result[label] = Counter(emojis).most_common(top_n)\n",
    "    return result"
   ]
  },
  {
   "cell_type": "markdown",
   "id": "8e1e7ee0",
   "metadata": {},
   "source": [
    "## Main Processing Function"
   ]
  },
  {
   "cell_type": "code",
   "execution_count": null,
   "id": "ac190f13",
   "metadata": {},
   "outputs": [],
   "source": [
    "def process_olid_data(file_path, save_path=\"dataset-english/OLID/output.csv\"):\n",
    "    df = pd.read_csv(file_path, index_col=0)\n",
    "    df[\"tweet\"] = df[\"tweet\"].apply(html.unescape)\n",
    "    \n",
    "    # Select relevant rows\n",
    "    df_tin = df[df[\"subtask_b\"] == 'TIN']\n",
    "    df_not = df[df[\"subtask_a\"] == 'NOT']\n",
    "    \n",
    "    # Drop unused columns\n",
    "    df_tin = df_tin.drop(columns=['cleaned_tweet', 'subtask_b', 'subtask_c'])\n",
    "    df_not = df_not.drop(columns=['cleaned_tweet', 'subtask_b', 'subtask_c'])\n",
    "    \n",
    "    # Keep only rows with emojis\n",
    "    df_tin = df_tin[df_tin[\"tweet\"].apply(contains_emoji)]\n",
    "    df_not = df_not[df_not[\"tweet\"].apply(contains_emoji)]\n",
    "    \n",
    "    # Merge and label\n",
    "    df = pd.concat([df_tin, df_not], ignore_index=True)\n",
    "    df[\"label\"] = df[\"subtask_a\"].replace({'OFF':1, 'NOT':0})\n",
    "    df = df.drop(columns=[\"subtask_a\"])\n",
    "    \n",
    "    # Emoji processing\n",
    "    df[\"emoji\"] = df[\"tweet\"].apply(extract_emojis).apply(format_emojis)\n",
    "    \n",
    "    # Save processed data\n",
    "    df.to_csv(save_path, index=False)\n",
    "    \n",
    "    # Analysis output\n",
    "    most_common, least_common = get_most_least_common_emojis(df, \"emoji\", top_n=1)\n",
    "    print(f\"Most common emoji: {most_common}\")\n",
    "    print(f\"Least common emoji: {least_common}\")\n",
    "    \n",
    "    emoji_by_label = get_most_common_emojis_by_label(df, \"emoji\", \"label\", top_n=10)\n",
    "    for label, items in emoji_by_label.items():\n",
    "        print(f\"\\nTop emojis for label {label}: {items}\")\n",
    "    \n",
    "    return df"
   ]
  },
  {
   "cell_type": "markdown",
   "id": "f880b92e",
   "metadata": {},
   "source": [
    "## Train and Test Processing"
   ]
  },
  {
   "cell_type": "code",
   "execution_count": null,
   "id": "6f141567",
   "metadata": {},
   "outputs": [
    {
     "name": "stdout",
     "output_type": "stream",
     "text": [
      "Most common emoji: [('😂', 516)]\n",
      "Least common emoji: [('🚨', 1)]\n",
      "\n",
      "Top emojis for label 1: [('😂', 139), ('🇺🇸', 76), ('🤣', 64), ('😭', 31), ('😡', 16), ('🤔', 15), ('👏', 15), ('😆', 14), ('🙄', 13), ('👇', 13)]\n",
      "\n",
      "Top emojis for label 0: [('😂', 377), ('🇺🇸', 291), ('🤣', 137), ('❤️', 123), ('😍', 73), ('😭', 68), ('👍', 65), ('🤔', 62), ('😘', 44), ('🙄', 40)]\n"
     ]
    }
   ],
   "source": [
    "train_df = process_olid_data(\"dataset-english/OLID/train.csv\",\"dataset-english/OLID/train_emoji.csv\")"
   ]
  },
  {
   "cell_type": "code",
   "execution_count": null,
   "id": "93e6f04e",
   "metadata": {},
   "outputs": [
    {
     "name": "stdout",
     "output_type": "stream",
     "text": [
      "Most common emoji: [('😂', 21)]\n",
      "Least common emoji: [('🙌', 1)]\n",
      "\n",
      "Top emojis for label 1: [('🇺🇸', 7), ('😂', 5), ('🖕', 5), ('🌻', 3), ('❤️', 2), ('🤔', 2), ('😭', 2), ('👇', 2), ('🔥', 1), ('🤷🏽\\u200d♂️', 1)]\n",
      "\n",
      "Top emojis for label 0: [('😂', 16), ('❤️', 14), ('💜', 13), ('🧡', 12), ('🇺🇸', 10), ('👏🏼', 8), ('👏', 7), ('💚', 6), ('🐅', 6), ('💛', 5)]\n"
     ]
    }
   ],
   "source": [
    "test_df = process_olid_data(\"dataset-english/OLID/test.csv\",\"dataset-english/OLID/test_emoji.csv\")"
   ]
  }
 ],
 "metadata": {
  "kernelspec": {
   "display_name": "env",
   "language": "python",
   "name": "python3"
  },
  "language_info": {
   "codemirror_mode": {
    "name": "ipython",
    "version": 3
   },
   "file_extension": ".py",
   "mimetype": "text/x-python",
   "name": "python",
   "nbconvert_exporter": "python",
   "pygments_lexer": "ipython3",
   "version": "3.8.5"
  }
 },
 "nbformat": 4,
 "nbformat_minor": 5
}
