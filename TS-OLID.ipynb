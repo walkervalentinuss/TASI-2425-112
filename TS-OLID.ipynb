{
 "cells": [
  {
   "cell_type": "markdown",
   "id": "f590b330",
   "metadata": {},
   "source": [
    "# Text Tokenization OLID"
   ]
  },
  {
   "cell_type": "markdown",
   "id": "cb878ff4",
   "metadata": {},
   "source": [
    "## Import & Setup"
   ]
  },
  {
   "cell_type": "code",
   "execution_count": 1,
   "id": "22f26338",
   "metadata": {},
   "outputs": [
    {
     "name": "stderr",
     "output_type": "stream",
     "text": [
      "c:\\Users\\walkervalentinus\\Documents\\PERKULIAHAN\\Final_Year\\SEMHAS\\tasi2425112-3.8\\env\\lib\\site-packages\\tqdm\\auto.py:21: TqdmWarning: IProgress not found. Please update jupyter and ipywidgets. See https://ipywidgets.readthedocs.io/en/stable/user_install.html\n",
      "  from .autonotebook import tqdm as notebook_tqdm\n",
      "None of PyTorch, TensorFlow >= 2.0, or Flax have been found. Models won't be available and only tokenizers, configuration and file/data utilities can be used.\n"
     ]
    }
   ],
   "source": [
    "import pandas as pd\n",
    "import matplotlib.pyplot as plt\n",
    "import seaborn as sns\n",
    "import numpy as np\n",
    "import os\n",
    "import matplotlib.cm as cm\n",
    "\n",
    "from matplotlib.colors import Normalize\n",
    "from collections import Counter\n",
    "from imblearn.over_sampling import SMOTE\n",
    "from transformers import BertTokenizer\n",
    "from sklearn.model_selection import train_test_split"
   ]
  },
  {
   "cell_type": "markdown",
   "id": "2604ada6",
   "metadata": {},
   "source": [
    "## Load Data"
   ]
  },
  {
   "cell_type": "code",
   "execution_count": 2,
   "id": "cb25338a",
   "metadata": {},
   "outputs": [],
   "source": [
    "clean_df = pd.read_csv(\"dataset/OLID/clean.csv\")"
   ]
  },
  {
   "cell_type": "markdown",
   "id": "d7315f22",
   "metadata": {},
   "source": [
    "## Check Label Distribution (Imbalance Analysis)"
   ]
  },
  {
   "cell_type": "code",
   "execution_count": 3,
   "id": "8ebff515",
   "metadata": {},
   "outputs": [],
   "source": [
    "# Label count\n",
    "label_counts = clean_df[\"label\"].value_counts().sort_index()\n",
    "labels = label_counts.index\n",
    "counts = label_counts.values"
   ]
  },
  {
   "cell_type": "code",
   "execution_count": 4,
   "id": "96a50b4e",
   "metadata": {},
   "outputs": [],
   "source": [
    "# Get majority and minority label\n",
    "major_label = label_counts.idxmax()\n",
    "minor_label = label_counts.idxmin()"
   ]
  },
  {
   "cell_type": "code",
   "execution_count": 5,
   "id": "7bcaff80",
   "metadata": {},
   "outputs": [],
   "source": [
    "# Count percentage \n",
    "total = counts.sum()\n",
    "diff_percent = ((counts.max() - counts.min()) / total) * 100"
   ]
  },
  {
   "cell_type": "code",
   "execution_count": 8,
   "id": "0924c95f",
   "metadata": {},
   "outputs": [],
   "source": [
    "plot_df = pd.DataFrame({\n",
    "    \"Label\": labels,\n",
    "    \"Count\": counts,\n",
    "    \"Category\": [\"Major\" if l == major_label else \"Minor\" for l in labels]\n",
    "})"
   ]
  },
  {
   "cell_type": "code",
   "execution_count": 9,
   "id": "8a390ef4",
   "metadata": {},
   "outputs": [],
   "source": [
    "color_map = {\"Major\": \"blue\", \"Minor\": \"red\"}"
   ]
  },
  {
   "cell_type": "code",
   "execution_count": 10,
   "id": "8ca859c5",
   "metadata": {},
   "outputs": [
    {
     "data": {
      "image/png": "[encoded data removed]",
      "text/plain": [
       "<Figure size 600x600 with 1 Axes>"
      ]
     },
     "metadata": {},
     "output_type": "display_data"
    }
   ],
   "source": [
    "# Plot\n",
    "plt.figure(figsize=(6, 6))\n",
    "ax = sns.barplot(data=plot_df, x=\"Label\", y=\"Count\", hue=\"Category\", palette=color_map, dodge=False)\n",
    "ax.legend_.remove() \n",
    "\n",
    "# Add percentage above the bar\n",
    "for i, count in enumerate(counts):\n",
    "    pct = (count / total) * 100\n",
    "    plt.text(i, count + 5, f\"{pct:.1f}%\", ha='center', va='bottom', fontsize=11, fontweight='bold')\n",
    "\n",
    "# Title and label\n",
    "plt.title(f\"OLID Label Distribution Before SMOTE\\nDifference: {diff_percent:.1f}%\", fontsize=13)\n",
    "plt.xlabel(\"Label\")\n",
    "plt.ylabel(\"Count\")\n",
    "plt.tight_layout()\n",
    "plt.show()"
   ]
  },
  {
   "cell_type": "markdown",
   "id": "d1ad98d9",
   "metadata": {},
   "source": [
    "## Tokenization"
   ]
  },
  {
   "cell_type": "code",
   "execution_count": 11,
   "id": "a5e7ca73",
   "metadata": {},
   "outputs": [
    {
     "name": "stderr",
     "output_type": "stream",
     "text": [
      "The tokenizer class you load from this checkpoint is not the same type as the class this function is called from. It may result in unexpected tokenization. \n",
      "The tokenizer class you load from this checkpoint is 'AlbertTokenizerFast'. \n",
      "The class this function is called from is 'BertTokenizer'.\n"
     ]
    }
   ],
   "source": [
    "# Load tokenizer\n",
    "tokenizer = BertTokenizer.from_pretrained(\"indobenchmark/indobert-lite-base-p1\")"
   ]
  },
  {
   "cell_type": "code",
   "execution_count": 12,
   "id": "90055480",
   "metadata": {},
   "outputs": [],
   "source": [
    "def tokenize_column(texts):\n",
    "    return [tokenizer.encode(text, max_length=128, padding='max_length', truncation=True) for text in texts]"
   ]
  },
  {
   "cell_type": "code",
   "execution_count": 13,
   "id": "16482795",
   "metadata": {},
   "outputs": [],
   "source": [
    "clean_df[\"token_no_emoji\"] = tokenize_column(clean_df[\"No Stopword Text\"].astype(str))\n",
    "clean_df[\"token_with_emoji\"] = tokenize_column(clean_df[\"Text with Emoji no Stopword\"].astype(str))"
   ]
  },
  {
   "cell_type": "code",
   "execution_count": 14,
   "id": "7d9e95aa",
   "metadata": {},
   "outputs": [
    {
     "data": {
      "text/html": [
       "<div>\n",
       "<style scoped>\n",
       "    .dataframe tbody tr th:only-of-type {\n",
       "        vertical-align: middle;\n",
       "    }\n",
       "\n",
       "    .dataframe tbody tr th {\n",
       "        vertical-align: top;\n",
       "    }\n",
       "\n",
       "    .dataframe thead th {\n",
       "        text-align: right;\n",
       "    }\n",
       "</style>\n",
       "<table border=\"1\" class=\"dataframe\">\n",
       "  <thead>\n",
       "    <tr style=\"text-align: right;\">\n",
       "      <th></th>\n",
       "      <th>No Stopword Text</th>\n",
       "      <th>Text with Emoji no Stopword</th>\n",
       "      <th>label</th>\n",
       "      <th>token_no_emoji</th>\n",
       "      <th>token_with_emoji</th>\n",
       "    </tr>\n",
       "  </thead>\n",
       "  <tbody>\n",
       "    <tr>\n",
       "      <th>0</th>\n",
       "      <td>pulang kamu mabuk bikin amerika hebat trump</td>\n",
       "      <td>pulang kamu mabuk bikin amerika hebat trump ti...</td>\n",
       "      <td>1</td>\n",
       "      <td>[2, 2984, 508, 12883, 2999, 1751, 4364, 17018,...</td>\n",
       "      <td>[2, 2984, 508, 12883, 2999, 1751, 4364, 17018,...</td>\n",
       "    </tr>\n",
       "    <tr>\n",
       "      <th>1</th>\n",
       "      <td>semua saya para benci hapus instagram tanpa alas</td>\n",
       "      <td>semua saya para benci hapus instagram tanpa al...</td>\n",
       "      <td>1</td>\n",
       "      <td>[2, 366, 209, 383, 11940, 5120, 7484, 705, 870...</td>\n",
       "      <td>[2, 366, 209, 383, 11940, 5120, 7484, 705, 870...</td>\n",
       "    </tr>\n",
       "    <tr>\n",
       "      <th>2</th>\n",
       "      <td>juta orang punya izin bawa senjata cara legal ...</td>\n",
       "      <td>juta orang punya izin bawa senjata cara legal ...</td>\n",
       "      <td>1</td>\n",
       "      <td>[2, 1633, 232, 1121, 4219, 4772, 4481, 354, 10...</td>\n",
       "      <td>[2, 1633, 232, 1121, 4219, 4772, 4481, 354, 10...</td>\n",
       "    </tr>\n",
       "    <tr>\n",
       "      <th>3</th>\n",
       "      <td>siapa main sama tuhan aku gak kasih bakat cuma</td>\n",
       "      <td>siapa main sama tuhan aku gak kasih bakat cuma...</td>\n",
       "      <td>1</td>\n",
       "      <td>[2, 1545, 2724, 500, 1251, 304, 1489, 1338, 70...</td>\n",
       "      <td>[2, 1545, 2724, 500, 1251, 304, 1489, 1338, 70...</td>\n",
       "    </tr>\n",
       "    <tr>\n",
       "      <th>4</th>\n",
       "      <td>udah mati jadi kamu necrophiliac bagus tau kam...</td>\n",
       "      <td>udah mati jadi kamu necrophiliac bagus tau kam...</td>\n",
       "      <td>1</td>\n",
       "      <td>[2, 2137, 1861, 472, 508, 27518, 4423, 18454, ...</td>\n",
       "      <td>[2, 2137, 1861, 472, 508, 27518, 4423, 18454, ...</td>\n",
       "    </tr>\n",
       "    <tr>\n",
       "      <th>5</th>\n",
       "      <td>kayak yang kesel gak suka panggil jadi nyoba b...</td>\n",
       "      <td>kayak kesel gak suka panggil jadi nyoba bikin ...</td>\n",
       "      <td>1</td>\n",
       "      <td>[2, 5788, 34, 2536, 1489, 1506, 11117, 472, 14...</td>\n",
       "      <td>[2, 5788, 2536, 1489, 1506, 11117, 472, 14663,...</td>\n",
       "    </tr>\n",
       "    <tr>\n",
       "      <th>6</th>\n",
       "      <td>jadi jijik buat kamu cuma dia fans rangers kam...</td>\n",
       "      <td>jadi jijik buat kamu cuma dia fans rangers kam...</td>\n",
       "      <td>1</td>\n",
       "      <td>[2, 472, 27213, 968, 508, 2279, 364, 7614, 162...</td>\n",
       "      <td>[2, 472, 27213, 968, 508, 2279, 364, 7614, 162...</td>\n",
       "    </tr>\n",
       "    <tr>\n",
       "      <th>7</th>\n",
       "      <td>rip ngakak siapa tau makanya aku usaha keras g...</td>\n",
       "      <td>rip ngakak siapa tau makanya aku usaha keras g...</td>\n",
       "      <td>1</td>\n",
       "      <td>[2, 20014, 19375, 1545, 2088, 6197, 304, 1062,...</td>\n",
       "      <td>[2, 20014, 19375, 1545, 2088, 6197, 304, 1062,...</td>\n",
       "    </tr>\n",
       "    <tr>\n",
       "      <th>8</th>\n",
       "      <td>siapa yang sebut shitgull bukan aku ryme</td>\n",
       "      <td>siapa yang sebut shitgull bukan aku ryme cium ...</td>\n",
       "      <td>1</td>\n",
       "      <td>[2, 1545, 34, 5115, 15685, 26281, 3516, 531, 3...</td>\n",
       "      <td>[2, 1545, 34, 5115, 15685, 26281, 3516, 531, 3...</td>\n",
       "    </tr>\n",
       "    <tr>\n",
       "      <th>9</th>\n",
       "      <td>kamu bilang suka cekik kalkun</td>\n",
       "      <td>kamu bilang suka cekik kalkun wajah mulut</td>\n",
       "      <td>1</td>\n",
       "      <td>[2, 508, 2911, 1506, 3158, 39, 15339, 23, 3, 0...</td>\n",
       "      <td>[2, 508, 2911, 1506, 3158, 39, 15339, 23, 1769...</td>\n",
       "    </tr>\n",
       "  </tbody>\n",
       "</table>\n",
       "</div>"
      ],
      "text/plain": [
       "                                    No Stopword Text  \\\n",
       "0        pulang kamu mabuk bikin amerika hebat trump   \n",
       "1   semua saya para benci hapus instagram tanpa alas   \n",
       "2  juta orang punya izin bawa senjata cara legal ...   \n",
       "3     siapa main sama tuhan aku gak kasih bakat cuma   \n",
       "4  udah mati jadi kamu necrophiliac bagus tau kam...   \n",
       "5  kayak yang kesel gak suka panggil jadi nyoba b...   \n",
       "6  jadi jijik buat kamu cuma dia fans rangers kam...   \n",
       "7  rip ngakak siapa tau makanya aku usaha keras g...   \n",
       "8           siapa yang sebut shitgull bukan aku ryme   \n",
       "9                      kamu bilang suka cekik kalkun   \n",
       "\n",
       "                         Text with Emoji no Stopword  label  \\\n",
       "0  pulang kamu mabuk bikin amerika hebat trump ti...      1   \n",
       "1  semua saya para benci hapus instagram tanpa al...      1   \n",
       "2  juta orang punya izin bawa senjata cara legal ...      1   \n",
       "3  siapa main sama tuhan aku gak kasih bakat cuma...      1   \n",
       "4  udah mati jadi kamu necrophiliac bagus tau kam...      1   \n",
       "5  kayak kesel gak suka panggil jadi nyoba bikin ...      1   \n",
       "6  jadi jijik buat kamu cuma dia fans rangers kam...      1   \n",
       "7  rip ngakak siapa tau makanya aku usaha keras g...      1   \n",
       "8  siapa yang sebut shitgull bukan aku ryme cium ...      1   \n",
       "9          kamu bilang suka cekik kalkun wajah mulut      1   \n",
       "\n",
       "                                      token_no_emoji  \\\n",
       "0  [2, 2984, 508, 12883, 2999, 1751, 4364, 17018,...   \n",
       "1  [2, 366, 209, 383, 11940, 5120, 7484, 705, 870...   \n",
       "2  [2, 1633, 232, 1121, 4219, 4772, 4481, 354, 10...   \n",
       "3  [2, 1545, 2724, 500, 1251, 304, 1489, 1338, 70...   \n",
       "4  [2, 2137, 1861, 472, 508, 27518, 4423, 18454, ...   \n",
       "5  [2, 5788, 34, 2536, 1489, 1506, 11117, 472, 14...   \n",
       "6  [2, 472, 27213, 968, 508, 2279, 364, 7614, 162...   \n",
       "7  [2, 20014, 19375, 1545, 2088, 6197, 304, 1062,...   \n",
       "8  [2, 1545, 34, 5115, 15685, 26281, 3516, 531, 3...   \n",
       "9  [2, 508, 2911, 1506, 3158, 39, 15339, 23, 3, 0...   \n",
       "\n",
       "                                    token_with_emoji  \n",
       "0  [2, 2984, 508, 12883, 2999, 1751, 4364, 17018,...  \n",
       "1  [2, 366, 209, 383, 11940, 5120, 7484, 705, 870...  \n",
       "2  [2, 1633, 232, 1121, 4219, 4772, 4481, 354, 10...  \n",
       "3  [2, 1545, 2724, 500, 1251, 304, 1489, 1338, 70...  \n",
       "4  [2, 2137, 1861, 472, 508, 27518, 4423, 18454, ...  \n",
       "5  [2, 5788, 2536, 1489, 1506, 11117, 472, 14663,...  \n",
       "6  [2, 472, 27213, 968, 508, 2279, 364, 7614, 162...  \n",
       "7  [2, 20014, 19375, 1545, 2088, 6197, 304, 1062,...  \n",
       "8  [2, 1545, 34, 5115, 15685, 26281, 3516, 531, 3...  \n",
       "9  [2, 508, 2911, 1506, 3158, 39, 15339, 23, 1769...  "
      ]
     },
     "execution_count": 14,
     "metadata": {},
     "output_type": "execute_result"
    }
   ],
   "source": [
    "clean_df.head(10)"
   ]
  },
  {
   "cell_type": "markdown",
   "id": "4158ba1d",
   "metadata": {},
   "source": [
    "## SMOTE Oversampling"
   ]
  },
  {
   "cell_type": "code",
   "execution_count": 15,
   "id": "209cd6ed",
   "metadata": {},
   "outputs": [],
   "source": [
    "X = np.array(clean_df[\"token_no_emoji\"].tolist())\n",
    "y = clean_df[\"label\"].values"
   ]
  },
  {
   "cell_type": "code",
   "execution_count": 16,
   "id": "f0578368",
   "metadata": {},
   "outputs": [],
   "source": [
    "sm = SMOTE(random_state=42, sampling_strategy='auto')\n",
    "X_resampled, y_resampled = sm.fit_resample(X, y)"
   ]
  },
  {
   "cell_type": "markdown",
   "id": "553e8234",
   "metadata": {},
   "source": [
    "## Check Oversampling Result "
   ]
  },
  {
   "cell_type": "code",
   "execution_count": 17,
   "id": "9291fdbe",
   "metadata": {},
   "outputs": [
    {
     "name": "stdout",
     "output_type": "stream",
     "text": [
      "\n",
      "OLID Label counts after SMOTE:\n",
      "Counter({1: 1094, 0: 1094})\n"
     ]
    }
   ],
   "source": [
    "print(\"\\nOLID Label counts after SMOTE:\")\n",
    "print(Counter(y_resampled))"
   ]
  },
  {
   "cell_type": "code",
   "execution_count": 18,
   "id": "e4295f64",
   "metadata": {},
   "outputs": [
    {
     "data": {
      "image/png": "[encoded data removed]",
      "text/plain": [
       "<Figure size 600x600 with 1 Axes>"
      ]
     },
     "metadata": {},
     "output_type": "display_data"
    }
   ],
   "source": [
    "plt.figure(figsize=(6, 6))\n",
    "sns.barplot(x=list(Counter(y_resampled).keys()), y=list(Counter(y_resampled).values()), color='blue')\n",
    "plt.title(\"OLID Label Distribution After SMOTE\", fontsize=13)\n",
    "plt.xlabel(\"Label\")\n",
    "plt.ylabel(\"Count\")\n",
    "plt.tight_layout()\n",
    "plt.show()"
   ]
  },
  {
   "cell_type": "markdown",
   "id": "c7e375d3",
   "metadata": {},
   "source": [
    "## Save Result"
   ]
  },
  {
   "cell_type": "code",
   "execution_count": 19,
   "id": "22b4d56f",
   "metadata": {},
   "outputs": [],
   "source": [
    "clean_df.to_csv(\"dataset/OLID/tokenized_original.csv\", index=False)"
   ]
  },
  {
   "cell_type": "code",
   "execution_count": 20,
   "id": "f180995c",
   "metadata": {},
   "outputs": [],
   "source": [
    "# Save SMOTE results for token_no_emoji\n",
    "resampled_df_no_emoji = pd.DataFrame(X_resampled.tolist())\n",
    "resampled_df_no_emoji['label'] = y_resampled\n",
    "resampled_df_no_emoji.to_csv(\"dataset/OLID/tokenized_smote_no_emoji.csv\", index=False)"
   ]
  },
  {
   "cell_type": "code",
   "execution_count": 21,
   "id": "dd441f02",
   "metadata": {},
   "outputs": [],
   "source": [
    "# Save SMOTE results for token_with_emoji (optional repeat)\n",
    "X2 = np.array(clean_df[\"token_with_emoji\"].tolist())\n",
    "X2_resampled, y2_resampled = sm.fit_resample(X2, y)\n",
    "resampled_df_with_emoji = pd.DataFrame(X2_resampled.tolist())\n",
    "resampled_df_with_emoji['label'] = y2_resampled\n",
    "resampled_df_with_emoji.to_csv(\"dataset/OLID/tokenized_smote_with_emoji.csv\", index=False)"
   ]
  },
  {
   "cell_type": "markdown",
   "id": "0c26547e",
   "metadata": {},
   "source": [
    "## Train Test Split "
   ]
  },
  {
   "cell_type": "code",
   "execution_count": 22,
   "id": "e2bceb18",
   "metadata": {},
   "outputs": [],
   "source": [
    "def split_and_save(dataframe, output_dir, name_prefix):\n",
    "    # Split 80% train, 20% temp\n",
    "    train_df, temp_df = train_test_split(dataframe, test_size=0.2, stratify=dataframe['label'], random_state=42)\n",
    "\n",
    "    # Split 10% val, 10% test from temp (50:50 split of 20%)\n",
    "    val_df, test_df = train_test_split(temp_df, test_size=0.5, stratify=temp_df['label'], random_state=42)\n",
    "\n",
    "    # Create output directory if it doesn't exist\n",
    "    os.makedirs(output_dir, exist_ok=True)\n",
    "\n",
    "    # Save files\n",
    "    train_df.to_csv(f\"{output_dir}/{name_prefix}_train.csv\", index=False)\n",
    "    val_df.to_csv(f\"{output_dir}/{name_prefix}_val.csv\", index=False)\n",
    "    test_df.to_csv(f\"{output_dir}/{name_prefix}_test.csv\", index=False)"
   ]
  },
  {
   "cell_type": "code",
   "execution_count": 23,
   "id": "ef7a618b",
   "metadata": {},
   "outputs": [],
   "source": [
    "df_no_emoji = pd.read_csv(\"dataset/OLID/tokenized_smote_no_emoji.csv\")\n",
    "df_with_emoji = pd.read_csv(\"dataset/OLID/tokenized_smote_with_emoji.csv\")\n",
    "\n",
    "split_and_save(df_no_emoji, \"dataset/OLID/TTVWE\", \"no_emoji\")\n",
    "split_and_save(df_with_emoji, \"dataset/OLID/TTVED\", \"with_emoji\")"
   ]
  }
 ],
 "metadata": {
  "kernelspec": {
   "display_name": "env",
   "language": "python",
   "name": "python3"
  },
  "language_info": {
   "codemirror_mode": {
    "name": "ipython",
    "version": 3
   },
   "file_extension": ".py",
   "mimetype": "text/x-python",
   "name": "python",
   "nbconvert_exporter": "python",
   "pygments_lexer": "ipython3",
   "version": "3.8.5"
  }
 },
 "nbformat": 4,
 "nbformat_minor": 5
}
