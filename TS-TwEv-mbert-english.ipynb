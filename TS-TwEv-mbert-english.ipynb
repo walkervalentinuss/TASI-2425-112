{
 "cells": [
  {
   "cell_type": "markdown",
   "id": "f590b330",
   "metadata": {},
   "source": [
    "# Text Tokenization TwEv"
   ]
  },
  {
   "cell_type": "markdown",
   "id": "cb878ff4",
   "metadata": {},
   "source": [
    "## Import & Setup"
   ]
  },
  {
   "cell_type": "code",
   "execution_count": 1,
   "id": "22f26338",
   "metadata": {},
   "outputs": [
    {
     "name": "stderr",
     "output_type": "stream",
     "text": [
      "c:\\Users\\walkervalentinus\\Documents\\PERKULIAHAN\\Final_Year\\SEMHAS\\tasi2425112-3.8-english\\env\\lib\\site-packages\\tqdm\\auto.py:21: TqdmWarning: IProgress not found. Please update jupyter and ipywidgets. See https://ipywidgets.readthedocs.io/en/stable/user_install.html\n",
      "  from .autonotebook import tqdm as notebook_tqdm\n"
     ]
    }
   ],
   "source": [
    "import pandas as pd\n",
    "import matplotlib.pyplot as plt\n",
    "import seaborn as sns\n",
    "import numpy as np\n",
    "import os\n",
    "import matplotlib.cm as cm\n",
    "\n",
    "from matplotlib.colors import Normalize\n",
    "from collections import Counter\n",
    "from imblearn.over_sampling import SMOTE\n",
    "from transformers import BertTokenizer\n",
    "from sklearn.model_selection import train_test_split\n",
    "from keras.preprocessing.sequence import pad_sequences"
   ]
  },
  {
   "cell_type": "markdown",
   "id": "2604ada6",
   "metadata": {},
   "source": [
    "## Load Data"
   ]
  },
  {
   "cell_type": "code",
   "execution_count": 2,
   "id": "cb25338a",
   "metadata": {},
   "outputs": [],
   "source": [
    "clean_df = pd.read_csv(\"dataset/TwEv/clean.csv\")"
   ]
  },
  {
   "cell_type": "markdown",
   "id": "d7315f22",
   "metadata": {},
   "source": [
    "## Check Label Distribution (Imbalance Analysis)"
   ]
  },
  {
   "cell_type": "code",
   "execution_count": 3,
   "id": "8ebff515",
   "metadata": {},
   "outputs": [],
   "source": [
    "# Label count\n",
    "label_counts = clean_df[\"label\"].value_counts().sort_index()\n",
    "labels = label_counts.index\n",
    "counts = label_counts.values"
   ]
  },
  {
   "cell_type": "code",
   "execution_count": 4,
   "id": "96a50b4e",
   "metadata": {},
   "outputs": [],
   "source": [
    "# Get majority and minority label\n",
    "major_label = label_counts.idxmax()\n",
    "minor_label = label_counts.idxmin()"
   ]
  },
  {
   "cell_type": "code",
   "execution_count": 5,
   "id": "7bcaff80",
   "metadata": {},
   "outputs": [],
   "source": [
    "# Count percentage \n",
    "total = counts.sum()\n",
    "diff_percent = ((counts.max() - counts.min()) / total) * 100"
   ]
  },
  {
   "cell_type": "code",
   "execution_count": 6,
   "id": "0924c95f",
   "metadata": {},
   "outputs": [],
   "source": [
    "plot_df = pd.DataFrame({\n",
    "    \"Label\": labels,\n",
    "    \"Count\": counts,\n",
    "    \"Category\": [\"Major\" if l == major_label else \"Minor\" for l in labels]\n",
    "})"
   ]
  },
  {
   "cell_type": "code",
   "execution_count": 7,
   "id": "8a390ef4",
   "metadata": {},
   "outputs": [],
   "source": [
    "color_map = {\"Major\": \"blue\", \"Minor\": \"red\"}"
   ]
  },
  {
   "cell_type": "code",
   "execution_count": 8,
   "id": "8ca859c5",
   "metadata": {},
   "outputs": [
    {
     "data": {
      "image/png": "[encoded data removed]",
      "text/plain": [
       "<Figure size 600x600 with 1 Axes>"
      ]
     },
     "metadata": {},
     "output_type": "display_data"
    }
   ],
   "source": [
    "# Plot\n",
    "plt.figure(figsize=(6, 6))\n",
    "ax = sns.barplot(data=plot_df, x=\"Label\", y=\"Count\", hue=\"Category\", palette=color_map, dodge=False)\n",
    "ax.legend_.remove() \n",
    "\n",
    "# Add percentage above the bar\n",
    "for i, count in enumerate(counts):\n",
    "    pct = (count / total) * 100\n",
    "    plt.text(i, count + 5, f\"{pct:.1f}%\", ha='center', va='bottom', fontsize=11, fontweight='bold')\n",
    "\n",
    "# Title and label\n",
    "plt.title(f\"TwEv Label Distribution Before SMOTE\\nDifference: {diff_percent:.1f}%\", fontsize=13)\n",
    "plt.xlabel(\"Label\")\n",
    "plt.ylabel(\"Count\")\n",
    "plt.tight_layout()\n",
    "plt.show()"
   ]
  },
  {
   "cell_type": "markdown",
   "id": "d1ad98d9",
   "metadata": {},
   "source": [
    "## Tokenization"
   ]
  },
  {
   "cell_type": "code",
   "execution_count": 9,
   "id": "90055480",
   "metadata": {},
   "outputs": [],
   "source": [
    "MAX_LEN = 128\n",
    "\n",
    "# Preprocessing function for tokenization and padding\n",
    "def preprocessing(df, column1, column2):\n",
    "    df[column1] = df[column1].fillna('')\n",
    "    sentences = df[f'{column1}'].values\n",
    "    labels = df[f'{column2}'].values\n",
    "\n",
    "    tokenizer = BertTokenizer.from_pretrained('bert-base-multilingual-cased')\n",
    "\n",
    "    encoded_sentences = []\n",
    "    for sent in sentences:\n",
    "        # Tokenizing each sentence\n",
    "        encoded_sent = tokenizer.encode(\n",
    "            sent,\n",
    "            add_special_tokens=True,  # CLS and SEP tokens will be added\n",
    "            truncation=True,\n",
    "            max_length=MAX_LEN\n",
    "        )\n",
    "        encoded_sentences.append(encoded_sent)\n",
    "\n",
    "    # Padding sequences to make them of uniform length (this will be done after tokenizing)\n",
    "    encoded_sentences = pad_sequences(encoded_sentences, maxlen=MAX_LEN, dtype=\"long\",\n",
    "                                      value=0, truncating=\"post\", padding=\"post\")\n",
    "\n",
    "    return encoded_sentences, labels"
   ]
  },
  {
   "cell_type": "code",
   "execution_count": 10,
   "id": "ec3fe1f0",
   "metadata": {},
   "outputs": [],
   "source": [
    "# Function to create attention masks\n",
    "def attention_masks(encoded_sentences):\n",
    "    attention_masks = []\n",
    "    for sent in encoded_sentences:\n",
    "        # Attention mask, 0 for padding, 1 for actual tokens\n",
    "        att_mask = [int(token_id > 0) for token_id in sent]\n",
    "        attention_masks.append(att_mask)\n",
    "    return attention_masks"
   ]
  },
  {
   "cell_type": "code",
   "execution_count": 11,
   "id": "16482795",
   "metadata": {},
   "outputs": [],
   "source": [
    "tokenized_train_we, train_labels_we = preprocessing(clean_df, 'No Stopword Text', 'label')\n",
    "tokenized_train_ed, train_labels_ed = preprocessing(clean_df, 'Text with Emoji no Stopword', 'label')"
   ]
  },
  {
   "cell_type": "code",
   "execution_count": 12,
   "id": "22d599c0",
   "metadata": {},
   "outputs": [],
   "source": [
    "X_we = tokenized_train_we\n",
    "y_we = train_labels_we\n",
    "\n",
    "X_we = tokenized_train_ed\n",
    "y_we = train_labels_ed"
   ]
  },
  {
   "cell_type": "markdown",
   "id": "4158ba1d",
   "metadata": {},
   "source": [
    "## SMOTE Oversampling"
   ]
  },
  {
   "cell_type": "code",
   "execution_count": 13,
   "id": "f0578368",
   "metadata": {},
   "outputs": [],
   "source": [
    "sm = SMOTE(random_state=42, sampling_strategy='auto')\n",
    "X_smote_we, y_smote_we = sm.fit_resample(X_we, y_we)\n",
    "X_smote_ed, y_smote_ed = sm.fit_resample(X_we, y_we)"
   ]
  },
  {
   "cell_type": "markdown",
   "id": "553e8234",
   "metadata": {},
   "source": [
    "## Check Oversampling Result "
   ]
  },
  {
   "cell_type": "code",
   "execution_count": 14,
   "id": "9291fdbe",
   "metadata": {},
   "outputs": [
    {
     "name": "stdout",
     "output_type": "stream",
     "text": [
      "\n",
      "TwEv Label counts after SMOTE:\n",
      "Counter({1: 336, 0: 336})\n",
      "Counter({1: 336, 0: 336})\n"
     ]
    }
   ],
   "source": [
    "print(\"\\nTwEv Label counts after SMOTE:\")\n",
    "print(Counter(y_smote_we))\n",
    "print(Counter(y_smote_ed))"
   ]
  },
  {
   "cell_type": "code",
   "execution_count": 15,
   "id": "e4295f64",
   "metadata": {},
   "outputs": [
    {
     "data": {
      "image/png": "[encoded data removed]",
      "text/plain": [
       "<Figure size 600x600 with 1 Axes>"
      ]
     },
     "metadata": {},
     "output_type": "display_data"
    }
   ],
   "source": [
    "plt.figure(figsize=(6, 6))\n",
    "sns.barplot(x=list(Counter(y_smote_we).keys()), y=list(Counter(y_smote_we).values()), color='blue')\n",
    "plt.title(\"TwEv Label Distribution After SMOTE\", fontsize=13)\n",
    "plt.xlabel(\"Label\")\n",
    "plt.ylabel(\"Count\")\n",
    "plt.tight_layout()\n",
    "plt.show()"
   ]
  },
  {
   "cell_type": "markdown",
   "id": "c7e375d3",
   "metadata": {},
   "source": [
    "## Save Result"
   ]
  },
  {
   "cell_type": "code",
   "execution_count": 16,
   "id": "dac1bdf8",
   "metadata": {},
   "outputs": [],
   "source": [
    "# Save SMOTE results for \"No Stopword Text\"\n",
    "resampled_df_no_emoji = pd.DataFrame(X_smote_we.tolist())\n",
    "resampled_df_no_emoji['label'] = y_smote_we\n",
    "resampled_df_no_emoji.to_csv(\"dataset/TwEv/tokenized_smote_we_mbert.csv\", index=False)"
   ]
  },
  {
   "cell_type": "code",
   "execution_count": 17,
   "id": "217e6d1a",
   "metadata": {},
   "outputs": [],
   "source": [
    "# Save SMOTE results for \"Text with Emoji no Stopword\"\n",
    "resampled_df_with_emoji = pd.DataFrame(X_smote_ed.tolist())\n",
    "resampled_df_with_emoji['label'] = y_smote_ed\n",
    "resampled_df_with_emoji.to_csv(\"dataset/TwEv/tokenized_smote_ed_mbert.csv\", index=False)"
   ]
  },
  {
   "cell_type": "markdown",
   "id": "0c26547e",
   "metadata": {},
   "source": [
    "## Train Test Split "
   ]
  },
  {
   "cell_type": "code",
   "execution_count": 18,
   "id": "7b84ba20",
   "metadata": {},
   "outputs": [],
   "source": [
    "def split_and_save(dataframe, output_dir, name_prefix):\n",
    "    train_df, temp_df = train_test_split(dataframe, test_size=0.2, stratify=dataframe['label'], random_state=42)\n",
    "    val_df, test_df = train_test_split(temp_df, test_size=0.5, stratify=temp_df['label'], random_state=42)\n",
    "    os.makedirs(output_dir, exist_ok=True)\n",
    "    train_df.to_csv(f\"{output_dir}/{name_prefix}_train_mbert.csv\", index=False)\n",
    "    val_df.to_csv(f\"{output_dir}/{name_prefix}_val_mbert.csv\", index=False)\n",
    "    test_df.to_csv(f\"{output_dir}/{name_prefix}_test_mbert.csv\", index=False)"
   ]
  },
  {
   "cell_type": "code",
   "execution_count": 19,
   "id": "d3c970b5",
   "metadata": {},
   "outputs": [],
   "source": [
    "# Load the resampled CSV files\n",
    "df_no_emoji_mbert = pd.read_csv(\"dataset/TwEv/tokenized_smote_we_mbert.csv\")\n",
    "df_with_emoji_mbert = pd.read_csv(\"dataset/TwEv/tokenized_smote_ed_mbert.csv\")"
   ]
  },
  {
   "cell_type": "code",
   "execution_count": 20,
   "id": "5bd3f647",
   "metadata": {},
   "outputs": [],
   "source": [
    "# Split and save the data for both datasets\n",
    "split_and_save(df_no_emoji_mbert, \"dataset/TwEv/TTVWE\", \"no_emoji\")\n",
    "split_and_save(df_with_emoji_mbert, \"dataset/TwEv/TTVED\", \"with_emoji\")"
   ]
  }
 ],
 "metadata": {
  "kernelspec": {
   "display_name": "env",
   "language": "python",
   "name": "python3"
  },
  "language_info": {
   "codemirror_mode": {
    "name": "ipython",
    "version": 3
   },
   "file_extension": ".py",
   "mimetype": "text/x-python",
   "name": "python",
   "nbconvert_exporter": "python",
   "pygments_lexer": "ipython3",
   "version": "3.8.5"
  }
 },
 "nbformat": 4,
 "nbformat_minor": 5
}
